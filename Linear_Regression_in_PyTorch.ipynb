{
  "nbformat": 4,
  "nbformat_minor": 0,
  "metadata": {
    "colab": {
      "name": "Linear Regression in PyTorch.ipynb",
      "provenance": [],
      "authorship_tag": "ABX9TyPbwjHymuKuTiyMI5nkCZlF",
      "include_colab_link": true
    },
    "kernelspec": {
      "name": "python3",
      "display_name": "Python 3"
    },
    "language_info": {
      "name": "python"
    }
  },
  "cells": [
    {
      "cell_type": "markdown",
      "metadata": {
        "id": "view-in-github",
        "colab_type": "text"
      },
      "source": [
        "<a href=\"https://colab.research.google.com/github/Amik-Sen-Fun/pytorch-tutorial/blob/main/Linear_Regression_in_PyTorch.ipynb\" target=\"_parent\"><img src=\"https://colab.research.google.com/assets/colab-badge.svg\" alt=\"Open In Colab\"/></a>"
      ]
    },
    {
      "cell_type": "markdown",
      "metadata": {
        "id": "jRA6RR-TUMtt"
      },
      "source": [
        "## Machine Learning vs. Classical Programming\n",
        "\n",
        "The approach we've taken in this tutorial is very different from programming as you might know it. Usually, we write programs that take some inputs, perform some operations, and return a result. \n",
        "\n",
        "However, in this notebook, we've defined a \"model\" that assumes a specific relationship between the inputs and the outputs, expressed using some unknown parameters (weights & biases). We then show the model some know inputs and outputs and _train_ the model to come up with good values for the unknown parameters. Once trained, the model can be used to compute the outputs for new inputs.\n",
        "\n",
        "This paradigm of programming is known as _machine learning_, where we use data to figure out the relationship between inputs and outputs. _Deep learning_ is a branch of machine learning that uses matrix operations, non-linear activation functions and gradient descent to build and train models. Andrej Karpathy, the director of AI at Tesla Motors, has written a great blog post on this topics, titled [Software 2.0](https://medium.com/@karpathy/software-2-0-a64152b37c35).\n",
        "\n",
        "This picture from book [Deep Learning with Python](https://www.manning.com/books/deep-learning-with-python) by Francois Chollet captures the difference between classical programming and machine learning:\n",
        "\n",
        "![](https://i.imgur.com/oJEQe7k.png)\n",
        "\n",
        "Keep this picture in mind as you work through the next few tutorials. "
      ]
    },
    {
      "cell_type": "markdown",
      "metadata": {
        "id": "6SECIjy8nFkt"
      },
      "source": [
        "## Introduction to Linear Regression\n",
        "\n",
        "In this tutorial, we'll discuss one of the foundational algorithms in machine learning: *Linear regression*. We'll create a model that predicts crop yields for apples and oranges (*target variables*) by looking at the average temperature, rainfall, and humidity (*input variables or features*) in a region. Here's the training data:\n",
        "\n",
        "![linear-regression-training-data](https://i.imgur.com/6Ujttb4.png)\n",
        "\n",
        "In a linear regression model, each target variable is estimated to be a weighted sum of the input variables, offset by some constant, known as a bias :\n",
        "\n",
        "```\n",
        "yield_apple  = w11 * temp + w12 * rainfall + w13 * humidity + b1\n",
        "yield_orange = w21 * temp + w22 * rainfall + w23 * humidity + b2\n",
        "```\n",
        "\n",
        "Visually, it means that the yield of apples is a linear or planar function of temperature, rainfall and humidity:\n",
        "\n",
        "![linear-regression-graph](https://i.imgur.com/4DJ9f8X.png)"
      ]
    },
    {
      "cell_type": "code",
      "metadata": {
        "id": "YRwfv4LXmV-6"
      },
      "source": [
        "import numpy as np\n",
        "import torch, torchvision"
      ],
      "execution_count": 51,
      "outputs": []
    },
    {
      "cell_type": "code",
      "metadata": {
        "id": "P8_UHER_meUW"
      },
      "source": [
        "# Input (temp, rainfall, humidity)\n",
        "inputs = np.array([[73, 67, 43], \n",
        "                   [91, 88, 64], \n",
        "                   [87, 134, 58], \n",
        "                   [102, 43, 37], \n",
        "                   [69, 96, 70]], dtype='float32')\n",
        "# Targets (apples, oranges)\n",
        "targets = np.array([[56, 70], \n",
        "                    [81, 101], \n",
        "                    [119, 133], \n",
        "                    [22, 37], \n",
        "                    [103, 119]], dtype='float32')"
      ],
      "execution_count": 52,
      "outputs": []
    },
    {
      "cell_type": "code",
      "metadata": {
        "colab": {
          "base_uri": "https://localhost:8080/"
        },
        "id": "uK-aGRpdnWm1",
        "outputId": "3e4aa12d-5eec-4fa9-d6dc-bfa0da9d9273"
      },
      "source": [
        "# The inputs are in numpy array, so we will convert them into tensors\n",
        "inputs = torch.from_numpy(inputs)\n",
        "targets = torch.from_numpy(targets)\n",
        "print(inputs, targets)"
      ],
      "execution_count": 53,
      "outputs": [
        {
          "output_type": "stream",
          "name": "stdout",
          "text": [
            "tensor([[ 73.,  67.,  43.],\n",
            "        [ 91.,  88.,  64.],\n",
            "        [ 87., 134.,  58.],\n",
            "        [102.,  43.,  37.],\n",
            "        [ 69.,  96.,  70.]]) tensor([[ 56.,  70.],\n",
            "        [ 81., 101.],\n",
            "        [119., 133.],\n",
            "        [ 22.,  37.],\n",
            "        [103., 119.]])\n"
          ]
        }
      ]
    },
    {
      "cell_type": "markdown",
      "metadata": {
        "id": "2N-fb-NInzqm"
      },
      "source": [
        "## Linear regression model from scratch\n",
        "\n",
        "The weights and biases (`w11, w12,... w23, b1 & b2`) can also be represented as matrices, initialized as random values. The first row of `w` and the first element of `b` are used to predict the first target variable, i.e., yield of apples, and similarly, the second for oranges."
      ]
    },
    {
      "cell_type": "markdown",
      "metadata": {
        "id": "fyhr2CSMn4xc"
      },
      "source": [
        "`torch.randn` creates a tensor with the given shape, with elements picked randomly from a normal distribution with mean 0 and standard deviation 1.\n",
        "\n",
        "Our *model* is simply a function that performs a matrix multiplication of the `inputs` and the weights `w` (transposed) and adds the bias `b` (replicated for each observation).\n",
        "\n",
        "![matrix-mult](https://i.imgur.com/WGXLFvA.png)\n",
        "\n",
        "We can define the model as follows:"
      ]
    },
    {
      "cell_type": "code",
      "metadata": {
        "colab": {
          "base_uri": "https://localhost:8080/"
        },
        "id": "N87sO9-TnuU4",
        "outputId": "7a0a4f73-ef55-4da3-e762-8f69c0521fc7"
      },
      "source": [
        "# Generating the initial Random Weight and Bias Matrix\n",
        "\n",
        "w = torch.randn(2,3, requires_grad = True)  # Generates the random weight matrix\n",
        "b = torch.randn(2,requires_grad = True)    # Generates the random bias matrix\n",
        "print(w,b)\n",
        "\n",
        "# Now let's see the initial guess\n",
        "y = inputs @ w.t() + b # Here @ -> matrix multiplication and .t() -> transpose\n",
        "print(y)"
      ],
      "execution_count": 54,
      "outputs": [
        {
          "output_type": "stream",
          "name": "stdout",
          "text": [
            "tensor([[-0.0522, -0.6296,  1.0169],\n",
            "        [ 1.5011,  1.4877,  0.9603]], requires_grad=True) tensor([1.9737, 0.3603], requires_grad=True)\n",
            "tensor([[-2.9486e-01,  2.5091e+02],\n",
            "        [ 6.8985e+00,  3.2934e+02],\n",
            "        [-2.7955e+01,  3.8601e+02],\n",
            "        [ 7.1989e+00,  2.5298e+02],\n",
            "        [ 9.1124e+00,  3.1398e+02]], grad_fn=<AddBackward0>)\n"
          ]
        }
      ]
    },
    {
      "cell_type": "markdown",
      "metadata": {
        "id": "JBj8zmCWp2Rg"
      },
      "source": [
        "## Loss function\n",
        "\n",
        "Before we improve our model, we need a way to evaluate how well our model is performing. We can compare the model's predictions with the actual targets using the following method:\n",
        "\n",
        "* Calculate the difference between the two matrices (`preds` and `targets`).\n",
        "* Square all elements of the difference matrix to remove negative values.\n",
        "* Calculate the average of the elements in the resulting matrix.\n",
        "\n",
        "The result is a single number, known as the **mean squared error** (MSE)."
      ]
    },
    {
      "cell_type": "code",
      "metadata": {
        "colab": {
          "base_uri": "https://localhost:8080/"
        },
        "id": "PipCijpdo7nC",
        "outputId": "3116444f-dac1-4840-95b7-bb43b757bcf4"
      },
      "source": [
        "# The mean square error is computed as \n",
        "def mse(t1,t2):\n",
        "  diff = (t1-t2)\n",
        "  print(diff*diff)\n",
        "  print(torch.sum(diff*diff))\n",
        "  print(diff.numel())\n",
        "  return torch.sum(diff*diff)/ diff.numel()\n",
        "\n",
        "# torch.sum() -> gives the sum of square of all errors, diff.numel() -> gives total number of elements\n",
        "loss = mse(y,targets)\n",
        "print(loss)"
      ],
      "execution_count": 55,
      "outputs": [
        {
          "output_type": "stream",
          "name": "stdout",
          "text": [
            "tensor([[ 3169.1113, 32729.0430],\n",
            "        [ 5491.0278, 52139.2812],\n",
            "        [21595.6523, 64014.0195],\n",
            "        [  219.0735, 46645.6562],\n",
            "        [ 8814.8740, 38017.1211]], grad_fn=<MulBackward0>)\n",
            "tensor(272834.8750, grad_fn=<SumBackward0>)\n",
            "10\n",
            "tensor(27283.4883, grad_fn=<DivBackward0>)\n"
          ]
        }
      ]
    },
    {
      "cell_type": "code",
      "metadata": {
        "colab": {
          "base_uri": "https://localhost:8080/"
        },
        "id": "v0THlAsTrLvu",
        "outputId": "432ec79b-58da-4746-b1e0-33bd8abe4d4c"
      },
      "source": [
        "# Computes all the derivatives required\n",
        "loss.backward()\n",
        "print(w.grad, b.grad)"
      ],
      "execution_count": 56,
      "outputs": [
        {
          "output_type": "stream",
          "name": "stdout",
          "text": [
            "tensor([[-6325.1533, -7926.8511, -4561.2622],\n",
            "        [18296.1094, 18824.6797, 11741.4512]]) tensor([-77.2079, 214.6436])\n"
          ]
        }
      ]
    },
    {
      "cell_type": "markdown",
      "metadata": {
        "id": "B9Cwe7LFrieV"
      },
      "source": [
        "## Adjust weights and biases to reduce the loss\n",
        "\n",
        "The loss is a [quadratic function](https://en.wikipedia.org/wiki/Quadratic_function) of our weights and biases, and our objective is to find the set of weights where the loss is the lowest. If we plot a graph of the loss w.r.t any individual weight or bias element, it will look like the figure shown below. An important insight from calculus is that the gradient indicates the rate of change of the loss, i.e., the loss function's [slope](https://en.wikipedia.org/wiki/Slope) w.r.t. the weights and biases.\n",
        "\n",
        "If a gradient element is **positive**:\n",
        "\n",
        "* **increasing** the weight element's value slightly will **increase** the loss\n",
        "* **decreasing** the weight element's value slightly will **decrease** the loss\n",
        "\n",
        "![postive-gradient](https://i.imgur.com/WLzJ4xP.png)\n",
        "\n",
        "If a gradient element is **negative**:\n",
        "\n",
        "* **increasing** the weight element's value slightly will **decrease** the loss\n",
        "* **decreasing** the weight element's value slightly will **increase** the loss\n",
        "\n",
        "![negative=gradient](https://i.imgur.com/dvG2fxU.png)\n",
        "\n",
        "The increase or decrease in the loss by changing a weight element is proportional to the gradient of the loss w.r.t. that element. This observation forms the basis of _the gradient descent_ optimization algorithm that we'll use to improve our model (by _descending_ along the _gradient_).\n",
        "\n",
        "We can subtract from each weight element a small quantity proportional to the derivative of the loss w.r.t. that element to reduce the loss slightly."
      ]
    },
    {
      "cell_type": "code",
      "metadata": {
        "id": "1RdXbTcJrfym",
        "colab": {
          "base_uri": "https://localhost:8080/"
        },
        "outputId": "2ff72b9f-9b62-410f-fbe5-2807ff4aa55d"
      },
      "source": [
        "# now lets decrease the weights and bias\n",
        "with torch.no_grad():\n",
        "  w -= w.grad * 1e-5\n",
        "  b -= b.grad * 1e-5\n",
        "  print(w,b)"
      ],
      "execution_count": 57,
      "outputs": [
        {
          "output_type": "stream",
          "name": "stdout",
          "text": [
            "tensor([[ 0.0110, -0.5503,  1.0625],\n",
            "        [ 1.3181,  1.2995,  0.8429]], requires_grad=True) tensor([1.9744, 0.3581], requires_grad=True)\n"
          ]
        }
      ]
    },
    {
      "cell_type": "markdown",
      "metadata": {
        "id": "IcWRKwONHGIE"
      },
      "source": [
        "We multiply the gradients with a very small number (`10^-5` in this case) to ensure that we don't modify the weights by a very large amount. We want to take a small step in the downhill direction of the gradient, not a giant leap. This number is called the *learning rate* of the algorithm. \n",
        "\n",
        "We use `torch.no_grad` to indicate to PyTorch that we shouldn't track, calculate, or modify gradients while updating the weights and biases."
      ]
    },
    {
      "cell_type": "markdown",
      "metadata": {
        "id": "O4Nc0HIeHhkh"
      },
      "source": [
        "Before we proceed, we reset the gradients to zero by invoking the `.zero_()` method. We need to do this because PyTorch accumulates gradients. Otherwise, the next time we invoke `.backward` on the loss, the new gradient values are added to the existing gradients, which may lead to unexpected results."
      ]
    },
    {
      "cell_type": "code",
      "metadata": {
        "colab": {
          "base_uri": "https://localhost:8080/"
        },
        "id": "2smT7oqnHGnD",
        "outputId": "3e8a8cba-7ee5-419a-d7d2-5846b990cb30"
      },
      "source": [
        "w.grad.zero_()\n",
        "b.grad.zero_()"
      ],
      "execution_count": 58,
      "outputs": [
        {
          "output_type": "execute_result",
          "data": {
            "text/plain": [
              "tensor([0., 0.])"
            ]
          },
          "metadata": {},
          "execution_count": 58
        }
      ]
    },
    {
      "cell_type": "markdown",
      "metadata": {
        "id": "k-Fypdi5H1wR"
      },
      "source": [
        "Now we will train our model iteratively and try to reduce the loss"
      ]
    },
    {
      "cell_type": "code",
      "metadata": {
        "colab": {
          "base_uri": "https://localhost:8080/"
        },
        "id": "bOyaQ_7oH1k9",
        "outputId": "db7532d0-e1b9-4ad5-8e48-c8916ac36525"
      },
      "source": [
        "for epoch in range(100):\n",
        "  pred = inputs @ w.t() + b\n",
        "  loss = mse(pred, targets)\n",
        "  loss.backward()\n",
        "  with torch.no_grad():\n",
        "    w-=w.grad*1e-5\n",
        "    b-=b.grad*1e-5"
      ],
      "execution_count": 59,
      "outputs": [
        {
          "output_type": "stream",
          "name": "stdout",
          "text": [
            "tensor([[1.9718e+03, 2.2468e+04],\n",
            "        [3.4164e+03, 3.5197e+04],\n",
            "        [1.6431e+04, 4.2048e+04],\n",
            "        [1.0579e+01, 3.4178e+04],\n",
            "        [6.1968e+03, 2.4356e+04]], grad_fn=<MulBackward0>)\n",
            "tensor(186272.1875, grad_fn=<SumBackward0>)\n",
            "10\n",
            "tensor([[ 1200.8859, 15480.3320],\n",
            "        [ 2080.3196, 23767.1836],\n",
            "        [12709.6504, 27460.9434],\n",
            "        [   38.0380, 25374.7402],\n",
            "        [ 4388.9028, 15408.9248]], grad_fn=<MulBackward0>)\n",
            "tensor(127909.9297, grad_fn=<SumBackward0>)\n",
            "10\n",
            "tensor([[  285.9203,  6088.6665],\n",
            "        [  494.6172,  8698.4395],\n",
            "        [ 7152.7598,  8854.9463],\n",
            "        [  541.0465, 12695.2471],\n",
            "        [ 1894.0608,  4357.1343]], grad_fn=<MulBackward0>)\n",
            "tensor(51062.8398, grad_fn=<SumBackward0>)\n",
            "10\n",
            "tensor([[  31.7082,  361.5519],\n",
            "        [  55.6270,  249.7315],\n",
            "        [2368.2520,    9.5569],\n",
            "        [2011.1138, 2837.4844],\n",
            "        [ 212.2075,   61.8670]], grad_fn=<MulBackward0>)\n",
            "tensor(8199.0996, grad_fn=<SumBackward0>)\n",
            "10\n",
            "tensor([[ 835.1704, 1770.7388],\n",
            "        [1454.5996, 4142.7520],\n",
            "        [ 128.3899, 8270.4258],\n",
            "        [4472.7261,   70.8443],\n",
            "        [ 239.7614, 7090.9629]], grad_fn=<MulBackward0>)\n",
            "tensor(28476.3711, grad_fn=<SumBackward0>)\n",
            "10\n",
            "tensor([[ 2370.5247,  8900.6240],\n",
            "        [ 4130.9863, 17662.2012],\n",
            "        [  436.2187, 29262.0234],\n",
            "        [ 7255.1709,  3783.8550],\n",
            "        [ 1708.0530, 22283.8438]], grad_fn=<MulBackward0>)\n",
            "tensor(97793.5000, grad_fn=<SumBackward0>)\n",
            "10\n",
            "tensor([[ 3770.3264, 16500.0371],\n",
            "        [ 6582.9097, 31525.2988],\n",
            "        [ 1797.3506, 49639.1289],\n",
            "        [ 9249.1543,  9357.1914],\n",
            "        [ 3414.3137, 36609.9180]], grad_fn=<MulBackward0>)\n",
            "tensor(168445.6250, grad_fn=<SumBackward0>)\n",
            "10\n",
            "tensor([[ 4187.0649, 19139.2305],\n",
            "        [ 7336.7500, 36237.2148],\n",
            "        [ 2455.9695, 56048.0977],\n",
            "        [ 9515.6768, 11670.5859],\n",
            "        [ 4076.0847, 41108.9727]], grad_fn=<MulBackward0>)\n",
            "tensor(191775.6562, grad_fn=<SumBackward0>)\n",
            "10\n",
            "tensor([[ 3357.2163, 14957.2646],\n",
            "        [ 5923.3008, 28581.9121],\n",
            "        [ 1708.6497, 44200.6367],\n",
            "        [ 7860.5273,  8776.9893],\n",
            "        [ 3217.7158, 32893.8906]], grad_fn=<MulBackward0>)\n",
            "tensor(151478.0938, grad_fn=<SumBackward0>)\n",
            "10\n",
            "tensor([[ 1784.1942,  6930.6157],\n",
            "        [ 3197.8286, 13808.8154],\n",
            "        [  379.3769, 21858.3926],\n",
            "        [ 4991.4229,  3204.3254],\n",
            "        [ 1481.8201, 17128.8965]], grad_fn=<MulBackward0>)\n",
            "tensor(74765.6875, grad_fn=<SumBackward0>)\n",
            "10\n",
            "tensor([[ 413.2867,  798.2919],\n",
            "        [ 783.7710, 2023.5439],\n",
            "        [ 139.1787, 3664.5715],\n",
            "        [2139.0583,   14.5161],\n",
            "        [ 158.2021, 3622.1567]], grad_fn=<MulBackward0>)\n",
            "tensor(13756.5781, grad_fn=<SumBackward0>)\n",
            "10\n",
            "tensor([[  15.6631, 1073.8112],\n",
            "        [  13.4266, 1259.0531],\n",
            "        [2167.4705, 1315.8242],\n",
            "        [ 372.1374, 3007.4897],\n",
            "        [ 262.7448,  331.5354]], grad_fn=<MulBackward0>)\n",
            "tensor(9819.1562, grad_fn=<SumBackward0>)\n",
            "10\n",
            "tensor([[  695.4378,  7888.0288],\n",
            "        [ 1078.9790, 11974.5459],\n",
            "        [ 6117.7861, 15745.8154],\n",
            "        [   35.7328, 11750.9785],\n",
            "        [ 1808.3887,  8177.3574]], grad_fn=<MulBackward0>)\n",
            "tensor(65273.0547, grad_fn=<SumBackward0>)\n",
            "10\n",
            "tensor([[ 1849.2021, 16838.8594],\n",
            "        [ 2961.6230, 26750.1855],\n",
            "        [10146.0557, 36619.6250],\n",
            "        [  657.6802, 21554.5020],\n",
            "        [ 3777.1575, 20656.1660]], grad_fn=<MulBackward0>)\n",
            "tensor(141811.0625, grad_fn=<SumBackward0>)\n",
            "10\n",
            "tensor([[ 2599.3403, 21963.4512],\n",
            "        [ 4175.3984, 35386.5156],\n",
            "        [12024.8027, 49452.8125],\n",
            "        [ 1356.9701, 26473.5977],\n",
            "        [ 4817.8916, 28471.2578]], grad_fn=<MulBackward0>)\n",
            "tensor(186722.0312, grad_fn=<SumBackward0>)\n",
            "10\n",
            "tensor([[ 2401.1716, 19805.6523],\n",
            "        [ 3808.5764, 31914.4688],\n",
            "        [10606.5039, 45477.3711],\n",
            "        [ 1461.1190, 23323.3203],\n",
            "        [ 4191.5229, 25979.8555]], grad_fn=<MulBackward0>)\n",
            "tensor(168969.5625, grad_fn=<SumBackward0>)\n",
            "10\n",
            "tensor([[ 1408.6050, 11795.2803],\n",
            "        [ 2147.0459, 18711.3984],\n",
            "        [ 6638.6440, 27524.1348],\n",
            "        [  915.6206, 13949.7090],\n",
            "        [ 2310.1780, 15037.1523]], grad_fn=<MulBackward0>)\n",
            "tensor(100437.7656, grad_fn=<SumBackward0>)\n",
            "10\n",
            "tensor([[ 351.5717, 3304.0359],\n",
            "        [ 455.7754, 4896.9263],\n",
            "        [2355.3416, 7938.9634],\n",
            "        [ 227.6180, 4163.5742],\n",
            "        [ 490.0100, 3621.8867]], grad_fn=<MulBackward0>)\n",
            "tensor(27805.7012, grad_fn=<SumBackward0>)\n",
            "10\n",
            "tensor([[ 14.8391,  12.8414],\n",
            "        [ 75.0061,  97.7214],\n",
            "        [ 92.0011,   9.6298],\n",
            "        [ 14.7482,   1.0151],\n",
            "        [ 74.5024, 217.5087]], grad_fn=<MulBackward0>)\n",
            "tensor(609.8132, grad_fn=<SumBackward0>)\n",
            "10\n",
            "tensor([[ 681.2198, 4063.8135],\n",
            "        [1459.4642, 7842.9839],\n",
            "        [ 831.4523, 8816.2061],\n",
            "        [ 501.2379, 3799.2046],\n",
            "        [1518.1271, 7836.4126]], grad_fn=<MulBackward0>)\n",
            "tensor(37350.1211, grad_fn=<SumBackward0>)\n",
            "10\n",
            "tensor([[ 1925.5231, 12619.4521],\n",
            "        [ 3828.0059, 23110.1562],\n",
            "        [ 3640.5854, 27792.7598],\n",
            "        [ 1331.1522, 12715.4258],\n",
            "        [ 4052.8506, 21817.2852]], grad_fn=<MulBackward0>)\n",
            "tensor(112833.1875, grad_fn=<SumBackward0>)\n",
            "10\n",
            "tensor([[ 2903.1445, 19809.2051],\n",
            "        [ 5671.3706, 35706.4648],\n",
            "        [ 6359.5610, 43352.1992],\n",
            "        [ 1836.5193, 20674.0664],\n",
            "        [ 6168.3652, 32932.3086]], grad_fn=<MulBackward0>)\n",
            "tensor(175413.2031, grad_fn=<SumBackward0>)\n",
            "10\n",
            "tensor([[ 2935.6255, 20731.7031],\n",
            "        [ 5774.7500, 37183.4727],\n",
            "        [ 7066.1240, 44379.6797],\n",
            "        [ 1568.9370, 22415.8145],\n",
            "        [ 6587.1343, 33689.7969]], grad_fn=<MulBackward0>)\n",
            "tensor(182333.0312, grad_fn=<SumBackward0>)\n",
            "10\n",
            "tensor([[ 1989.3619, 14780.0195],\n",
            "        [ 4055.3203, 26566.8809],\n",
            "        [ 5325.2266, 30045.9395],\n",
            "        [  707.2249, 16917.6582],\n",
            "        [ 5081.7192, 23511.8633]], grad_fn=<MulBackward0>)\n",
            "tensor(128981.2109, grad_fn=<SumBackward0>)\n",
            "10\n",
            "tensor([[  714.7525,  6024.6777],\n",
            "        [ 1637.5142, 10994.2725],\n",
            "        [ 2394.8296, 10532.6377],\n",
            "        [   29.3019,  7904.2886],\n",
            "        [ 2591.1792,  9220.7715]], grad_fn=<MulBackward0>)\n",
            "tensor(52044.2227, grad_fn=<SumBackward0>)\n",
            "10\n",
            "tensor([[  13.3828,  403.5118],\n",
            "        [ 107.9484,  834.0009],\n",
            "        [ 279.1463,  119.3230],\n",
            "        [ 434.4979, 1166.0803],\n",
            "        [ 570.1296,  469.1640]], grad_fn=<MulBackward0>)\n",
            "tensor(4397.1851, grad_fn=<SumBackward0>)\n",
            "10\n",
            "tensor([[ 424.8412, 1650.4954],\n",
            "        [ 452.5411, 2628.6086],\n",
            "        [ 306.2276, 7330.9795],\n",
            "        [2319.3982,  569.9479],\n",
            "        [  22.5440, 3209.6626]], grad_fn=<MulBackward0>)\n",
            "tensor(18915.2441, grad_fn=<SumBackward0>)\n",
            "10\n",
            "tensor([[ 1750.6395,  8753.8584],\n",
            "        [ 2397.1323, 14686.7578],\n",
            "        [ 2221.2144, 28889.5938],\n",
            "        [ 5226.9155,  5514.6567],\n",
            "        [  879.2759, 15649.9355]], grad_fn=<MulBackward0>)\n",
            "tensor(85969.9766, grad_fn=<SumBackward0>)\n",
            "10\n",
            "tensor([[ 3173.4700, 16681.2344],\n",
            "        [ 4599.4570, 28327.9062],\n",
            "        [ 4417.6587, 51644.9883],\n",
            "        [ 8020.6816, 11557.5293],\n",
            "        [ 2133.9417, 29453.3398]], grad_fn=<MulBackward0>)\n",
            "tensor(160010.2031, grad_fn=<SumBackward0>)\n",
            "10\n",
            "tensor([[ 3794.0227, 19868.0508],\n",
            "        [ 5561.1421, 33910.5898],\n",
            "        [ 5133.9053, 61228.4141],\n",
            "        [ 9494.6611, 13735.2705],\n",
            "        [ 2625.9255, 35372.2578]], grad_fn=<MulBackward0>)\n",
            "tensor(190724.2344, grad_fn=<SumBackward0>)\n",
            "10\n",
            "tensor([[ 3223.8042, 16070.5566],\n",
            "        [ 4638.8184, 27500.1016],\n",
            "        [ 3768.4243, 51586.0430],\n",
            "        [ 9040.7100, 10235.5508],\n",
            "        [ 1913.4480, 29481.5332]], grad_fn=<MulBackward0>)\n",
            "tensor(157458.9844, grad_fn=<SumBackward0>)\n",
            "10\n",
            "tensor([[ 1834.5562,  7934.2598],\n",
            "        [ 2467.6968, 13596.7822],\n",
            "        [ 1381.2203, 28943.3457],\n",
            "        [ 6957.8979,  3831.4431],\n",
            "        [  619.9467, 15776.6992]], grad_fn=<MulBackward0>)\n",
            "tensor(83343.8516, grad_fn=<SumBackward0>)\n",
            "10\n",
            "tensor([[4.9871e+02, 1.1942e+03],\n",
            "        [5.1354e+02, 2.0482e+03],\n",
            "        [8.9951e+00, 7.5384e+03],\n",
            "        [4.2231e+03, 3.6609e+01],\n",
            "        [4.1355e+00, 3.3876e+03]], grad_fn=<MulBackward0>)\n",
            "tensor(19453.4492, grad_fn=<SumBackward0>)\n",
            "10\n",
            "tensor([[9.5961e-01, 7.3315e+02],\n",
            "        [6.4265e+01, 1.2574e+03],\n",
            "        [1.2451e+03, 5.9592e+01],\n",
            "        [1.8931e+03, 3.2148e+03],\n",
            "        [1.0454e+03, 3.3431e+02]], grad_fn=<MulBackward0>)\n",
            "tensor(9848.0293, grad_fn=<SumBackward0>)\n",
            "10\n",
            "tensor([[  522.8497,  7197.3911],\n",
            "        [ 1353.5154, 12344.8984],\n",
            "        [ 5055.0132,  9302.4844],\n",
            "        [  537.9505, 13317.4707],\n",
            "        [ 3678.7180,  8103.7261]], grad_fn=<MulBackward0>)\n",
            "tensor(61414.0156, grad_fn=<SumBackward0>)\n",
            "10\n",
            "tensor([[ 1548.8391, 16492.7344],\n",
            "        [ 3415.1448, 28274.4453],\n",
            "        [ 9655.5059, 26691.6543],\n",
            "        [   63.7062, 25533.8027],\n",
            "        [ 6721.5752, 20746.1309]], grad_fn=<MulBackward0>)\n",
            "tensor(139143.5469, grad_fn=<SumBackward0>)\n",
            "10\n",
            "tensor([[2.2517e+03, 2.2520e+04],\n",
            "        [4.7647e+03, 3.8565e+04],\n",
            "        [1.2570e+04, 3.8588e+04],\n",
            "        [7.1943e-01, 3.3172e+04],\n",
            "        [8.5658e+03, 2.9085e+04]], grad_fn=<MulBackward0>)\n",
            "tensor(190083.2656, grad_fn=<SumBackward0>)\n",
            "10\n",
            "tensor([[2.0861e+03, 2.1292e+04],\n",
            "        [4.4361e+03, 3.6381e+04],\n",
            "        [1.2178e+04, 3.5974e+04],\n",
            "        [1.0650e+01, 3.1892e+04],\n",
            "        [8.1865e+03, 2.7128e+04]], grad_fn=<MulBackward0>)\n",
            "tensor(179564.2500, grad_fn=<SumBackward0>)\n",
            "10\n",
            "tensor([[ 1177.5901, 13628.7705],\n",
            "        [ 2658.3296, 23175.2500],\n",
            "        [ 8727.9863, 20810.0391],\n",
            "        [  222.8494, 22471.1250],\n",
            "        [ 5797.2461, 16252.0498]], grad_fn=<MulBackward0>)\n",
            "tensor(114921.2344, grad_fn=<SumBackward0>)\n",
            "10\n",
            "tensor([[  237.1974,  4593.9482],\n",
            "        [  704.8666,  7700.1670],\n",
            "        [ 4156.1763,  4670.1914],\n",
            "        [ 1144.2341, 10263.3271],\n",
            "        [ 2712.0356,  4287.6147]], grad_fn=<MulBackward0>)\n",
            "tensor(40469.7578, grad_fn=<SumBackward0>)\n",
            "10\n",
            "tensor([[  59.0585,   60.8735],\n",
            "        [  15.8099,   77.7664],\n",
            "        [ 826.1493,  598.1837],\n",
            "        [3202.0647, 1724.9236],\n",
            "        [ 508.8199,  105.0841]], grad_fn=<MulBackward0>)\n",
            "tensor(7178.7334, grad_fn=<SumBackward0>)\n",
            "10\n",
            "tensor([[  948.5878,  2750.7341],\n",
            "        [ 1195.2753,  4963.1548],\n",
            "        [   53.5578, 13796.0107],\n",
            "        [ 6254.3984,   350.8318],\n",
            "        [   51.8487,  7427.1436]], grad_fn=<MulBackward0>)\n",
            "tensor(37791.5430, grad_fn=<SumBackward0>)\n",
            "10\n",
            "tensor([[ 2478.3081, 10442.6123],\n",
            "        [ 3573.0791, 18465.4238],\n",
            "        [ 1387.8894, 37604.1914],\n",
            "        [ 9444.4912,  4725.7559],\n",
            "        [ 1021.1056, 22120.6426]], grad_fn=<MulBackward0>)\n",
            "tensor(111263.5000, grad_fn=<SumBackward0>)\n",
            "10\n",
            "tensor([[ 3746.1843, 17564.5684],\n",
            "        [ 5636.5303, 30909.7891],\n",
            "        [ 3106.4783, 57618.7656],\n",
            "        [11550.0771,  9930.6660],\n",
            "        [ 2245.0691, 34857.1094]], grad_fn=<MulBackward0>)\n",
            "tensor(177165.2500, grad_fn=<SumBackward0>)\n",
            "10\n",
            "tensor([[ 3967.0002, 19061.8320],\n",
            "        [ 6042.9390, 33530.8633],\n",
            "        [ 3542.3752, 61218.7188],\n",
            "        [11638.1963, 11249.8984],\n",
            "        [ 2585.8391, 37357.4414]], grad_fn=<MulBackward0>)\n",
            "tensor(190195.1250, grad_fn=<SumBackward0>)\n",
            "10\n",
            "tensor([[ 2997.4409, 13883.8154],\n",
            "        [ 4525.1582, 24503.3594],\n",
            "        [ 2306.0454, 46049.0117],\n",
            "        [ 9614.2549,  7572.7612],\n",
            "        [ 1754.9708, 27978.0449]], grad_fn=<MulBackward0>)\n",
            "tensor(141184.8594, grad_fn=<SumBackward0>)\n",
            "10\n",
            "tensor([[ 1437.6410,  5698.6279],\n",
            "        [ 2073.4280, 10178.5762],\n",
            "        [  549.1977, 21677.5918],\n",
            "        [ 6305.3779,  2130.7925],\n",
            "        [  496.5007, 12831.5283]], grad_fn=<MulBackward0>)\n",
            "tensor(63379.2656, grad_fn=<SumBackward0>)\n",
            "10\n",
            "tensor([[ 238.1631,  348.6546],\n",
            "        [ 269.0692,  686.4335],\n",
            "        [  93.6488, 3272.7422],\n",
            "        [3012.6704,   79.7618],\n",
            "        [  18.2826, 1674.9308]], grad_fn=<MulBackward0>)\n",
            "tensor(9694.3574, grad_fn=<SumBackward0>)\n",
            "10\n",
            "tensor([[  76.6079, 1797.1980],\n",
            "        [ 223.1196, 2925.8384],\n",
            "        [2042.5969, 1567.5786],\n",
            "        [ 808.9437, 4634.7837],\n",
            "        [1076.8884, 1361.2059]], grad_fn=<MulBackward0>)\n",
            "tensor(16514.7598, grad_fn=<SumBackward0>)\n",
            "10\n",
            "tensor([[  923.7441,  9353.3447],\n",
            "        [ 1841.1918, 15759.0088],\n",
            "        [ 5858.3330, 15897.0518],\n",
            "        [   18.5831, 14483.6963],\n",
            "        [ 3363.9929, 11305.5645]], grad_fn=<MulBackward0>)\n",
            "tensor(78804.5078, grad_fn=<SumBackward0>)\n",
            "10\n",
            "tensor([[ 2089.1062, 18088.3789],\n",
            "        [ 3911.7717, 30717.0449],\n",
            "        [ 9575.3047, 34986.0938],\n",
            "        [  188.3399, 24335.9629],\n",
            "        [ 5636.1431, 24034.2773]], grad_fn=<MulBackward0>)\n",
            "tensor(153562.4375, grad_fn=<SumBackward0>)\n",
            "10\n",
            "tensor([[ 2709.3354, 22170.7363],\n",
            "        [ 4952.3228, 37748.9023],\n",
            "        [11035.6758, 44880.6836],\n",
            "        [  529.6379, 28304.9922],\n",
            "        [ 6516.1963, 30408.9980]], grad_fn=<MulBackward0>)\n",
            "tensor(189257.4688, grad_fn=<SumBackward0>)\n",
            "10\n",
            "tensor([[ 2342.3342, 18844.2148],\n",
            "        [ 4230.8262, 32087.2734],\n",
            "        [ 9322.3125, 38558.0000],\n",
            "        [  506.9987, 23852.2891],\n",
            "        [ 5426.1826, 25930.6797]], grad_fn=<MulBackward0>)\n",
            "tensor(161101.1250, grad_fn=<SumBackward0>)\n",
            "10\n",
            "tensor([[ 1261.2030, 10327.2764],\n",
            "        [ 2263.0217, 17531.9492],\n",
            "        [ 5412.3643, 20642.3750],\n",
            "        [  168.3938, 13598.1738],\n",
            "        [ 3011.1233, 13803.4141]], grad_fn=<MulBackward0>)\n",
            "tensor(88019.2812, grad_fn=<SumBackward0>)\n",
            "10\n",
            "tensor([[ 250.4131, 2327.7922],\n",
            "        [ 446.9918, 3894.6509],\n",
            "        [1591.0806, 4039.7190],\n",
            "        [  10.3117, 3725.6726],\n",
            "        [ 752.2078, 2671.1907]], grad_fn=<MulBackward0>)\n",
            "tensor(19710.0293, grad_fn=<SumBackward0>)\n",
            "10\n",
            "tensor([[ 49.2815, 179.0484],\n",
            "        [ 89.2024, 339.5971],\n",
            "        [  1.4371, 857.9949],\n",
            "        [503.3248,   8.0075],\n",
            "        [ 16.5458, 598.3315]], grad_fn=<MulBackward0>)\n",
            "tensor(2642.7712, grad_fn=<SumBackward0>)\n",
            "10\n",
            "tensor([[  829.5584,  5229.1836],\n",
            "        [ 1493.3679,  9161.0596],\n",
            "        [ 1290.8065, 13898.6416],\n",
            "        [ 1641.6105,  4105.8135],\n",
            "        [ 1175.0974,  9441.0654]], grad_fn=<MulBackward0>)\n",
            "tensor(48266.2031, grad_fn=<SumBackward0>)\n",
            "10\n",
            "tensor([[ 2069.4028, 13944.4258],\n",
            "        [ 3740.1570, 24243.0742],\n",
            "        [ 4252.2871, 34601.1328],\n",
            "        [ 2858.6245, 12604.2383],\n",
            "        [ 3377.5322, 23488.8555]], grad_fn=<MulBackward0>)\n",
            "tensor(125179.7344, grad_fn=<SumBackward0>)\n",
            "10\n",
            "tensor([[ 2912.2380, 20333.7832],\n",
            "        [ 5311.3882, 35248.4453],\n",
            "        [ 6687.5439, 48879.7617],\n",
            "        [ 3387.0674, 19409.9746],\n",
            "        [ 5131.0010, 33324.4219]], grad_fn=<MulBackward0>)\n",
            "tensor(180625.6250, grad_fn=<SumBackward0>)\n",
            "10\n",
            "tensor([[ 2764.0662, 20035.8066],\n",
            "        [ 5132.1660, 34671.3438],\n",
            "        [ 6896.3452, 46855.6289],\n",
            "        [ 2818.8940, 19863.0254],\n",
            "        [ 5289.2373, 32268.0020]], grad_fn=<MulBackward0>)\n",
            "tensor(176594.5156, grad_fn=<SumBackward0>)\n",
            "10\n",
            "tensor([[ 1716.7395, 13276.3486],\n",
            "        [ 3316.0356, 22935.6230],\n",
            "        [ 4783.8862, 29788.0449],\n",
            "        [ 1465.9845, 13778.6318],\n",
            "        [ 3786.4182, 20989.5605]], grad_fn=<MulBackward0>)\n",
            "tensor(115837.2734, grad_fn=<SumBackward0>)\n",
            "10\n",
            "tensor([[ 501.9524, 4682.8184],\n",
            "        [1099.6141, 8063.1279],\n",
            "        [1849.7947, 9402.2051],\n",
            "        [ 245.2323, 5391.8403],\n",
            "        [1630.5537, 7115.5566]], grad_fn=<MulBackward0>)\n",
            "tensor(39982.6953, grad_fn=<SumBackward0>)\n",
            "10\n",
            "tensor([[  1.5323,  93.0476],\n",
            "        [  7.1114, 153.4779],\n",
            "        [ 92.8990,   7.5984],\n",
            "        [132.4218, 306.1240],\n",
            "        [178.9157,  76.5063]], grad_fn=<MulBackward0>)\n",
            "tensor(1049.6343, grad_fn=<SumBackward0>)\n",
            "10\n",
            "tensor([[ 644.6199, 2551.4146],\n",
            "        [ 812.6249, 4464.4463],\n",
            "        [ 605.0237, 8746.7021],\n",
            "        [1529.2523, 1588.7104],\n",
            "        [ 205.2119, 4699.5786]], grad_fn=<MulBackward0>)\n",
            "tensor(25847.5840, grad_fn=<SumBackward0>)\n",
            "10\n",
            "tensor([[ 2102.4617, 10236.8906],\n",
            "        [ 3008.1282, 17833.6875],\n",
            "        [ 2830.4182, 30620.8770],\n",
            "        [ 3960.6084,  7715.0835],\n",
            "        [ 1402.5948, 17915.9551]], grad_fn=<MulBackward0>)\n",
            "tensor(97626.7109, grad_fn=<SumBackward0>)\n",
            "10\n",
            "tensor([[ 3491.2852, 17739.5898],\n",
            "        [ 5141.3140, 30887.9980],\n",
            "        [ 4998.2866, 51707.6836],\n",
            "        [ 6311.3589, 13765.9893],\n",
            "        [ 2658.1470, 30832.7676]], grad_fn=<MulBackward0>)\n",
            "tensor(167534.4219, grad_fn=<SumBackward0>)\n",
            "10\n",
            "tensor([[ 3949.1960, 19805.2617],\n",
            "        [ 5794.5488, 34518.2578],\n",
            "        [ 5419.0928, 58413.3125],\n",
            "        [ 7460.9189, 15021.0762],\n",
            "        [ 2896.9282, 34760.1484]], grad_fn=<MulBackward0>)\n",
            "tensor(188038.7500, grad_fn=<SumBackward0>)\n",
            "10\n",
            "tensor([[ 3199.2095, 14974.2549],\n",
            "        [ 4539.1152, 26173.9082],\n",
            "        [ 3733.6284, 46498.7422],\n",
            "        [ 6914.9175, 10428.6602],\n",
            "        [ 1897.5106, 27087.1387]], grad_fn=<MulBackward0>)\n",
            "tensor(145447.0781, grad_fn=<SumBackward0>)\n",
            "10\n",
            "tensor([[ 1720.4274,  6612.3369],\n",
            "        [ 2216.5251, 11652.4453],\n",
            "        [ 1232.0662, 23780.0391],\n",
            "        [ 5039.8711,  3507.1401],\n",
            "        [  498.9384, 13007.8350]], grad_fn=<MulBackward0>)\n",
            "tensor(69267.6250, grad_fn=<SumBackward0>)\n",
            "10\n",
            "tensor([[4.1601e+02, 6.1764e+02],\n",
            "        [3.5834e+02, 1.1455e+03],\n",
            "        [4.4888e-04, 4.7192e+03],\n",
            "        [2.7730e+03, 1.2611e+00],\n",
            "        [3.9723e+01, 1.9372e+03]], grad_fn=<MulBackward0>)\n",
            "tensor(12007.8232, grad_fn=<SumBackward0>)\n",
            "10\n",
            "tensor([[   7.9100, 1367.2972],\n",
            "        [ 143.7198, 2239.3838],\n",
            "        [1461.8639,  640.6586],\n",
            "        [1023.6621, 3863.8433],\n",
            "        [1403.9969, 1081.6106]], grad_fn=<MulBackward0>)\n",
            "tensor(13233.9453, grad_fn=<SumBackward0>)\n",
            "10\n",
            "tensor([[  571.3775,  8678.7119],\n",
            "        [ 1607.6272, 14661.8076],\n",
            "        [ 5319.1001, 12260.4902],\n",
            "        [  174.5088, 14316.6611],\n",
            "        [ 4330.6426, 10565.3057]], grad_fn=<MulBackward0>)\n",
            "tensor(72486.2344, grad_fn=<SumBackward0>)\n",
            "10\n",
            "tensor([[1.5225e+03, 1.7873e+04],\n",
            "        [3.6386e+03, 3.0380e+04],\n",
            "        [9.6258e+03, 2.9592e+04],\n",
            "        [1.7407e-02, 2.6044e+04],\n",
            "        [7.4731e+03, 2.3436e+04]], grad_fn=<MulBackward0>)\n",
            "tensor(149584.0781, grad_fn=<SumBackward0>)\n",
            "10\n",
            "tensor([[2.0596e+03, 2.2908e+04],\n",
            "        [4.7627e+03, 3.9001e+04],\n",
            "        [1.1978e+04, 3.9208e+04],\n",
            "        [2.0124e+01, 3.2457e+04],\n",
            "        [9.1930e+03, 3.0524e+04]], grad_fn=<MulBackward0>)\n",
            "tensor(192112.6875, grad_fn=<SumBackward0>)\n",
            "10\n",
            "tensor([[1.7465e+03, 2.0459e+04],\n",
            "        [4.1719e+03, 3.4801e+04],\n",
            "        [1.1037e+04, 3.3802e+04],\n",
            "        [2.9415e-01, 2.9885e+04],\n",
            "        [8.5721e+03, 2.6808e+04]], grad_fn=<MulBackward0>)\n",
            "tensor(171282.2500, grad_fn=<SumBackward0>)\n",
            "10\n",
            "tensor([[  831.4333, 12156.6133],\n",
            "        [ 2287.6455, 20589.5879],\n",
            "        [ 7371.4365, 17403.7520],\n",
            "        [  213.7370, 19889.0996],\n",
            "        [ 5975.4590, 14902.2979]], grad_fn=<MulBackward0>)\n",
            "tensor(101621.0625, grad_fn=<SumBackward0>)\n",
            "10\n",
            "tensor([[  77.3004, 3471.1921],\n",
            "        [ 471.8189, 5785.5225],\n",
            "        [3066.1860, 2640.6843],\n",
            "        [1258.2203, 8190.0181],\n",
            "        [2797.4324, 3268.8291]], grad_fn=<MulBackward0>)\n",
            "tensor(31027.2031, grad_fn=<SumBackward0>)\n",
            "10\n",
            "tensor([[2.1845e+02, 3.1311e+00],\n",
            "        [8.2090e+01, 1.3146e+01],\n",
            "        [3.6573e+02, 1.8870e+03],\n",
            "        [3.5463e+03, 9.2736e+02],\n",
            "        [5.6792e+02, 3.7484e+02]], grad_fn=<MulBackward0>)\n",
            "tensor(7985.9912, grad_fn=<SumBackward0>)\n",
            "10\n",
            "tensor([[ 1419.9681,  3711.2856],\n",
            "        [ 1520.8792,  6605.7002],\n",
            "        [  268.0597, 18403.4180],\n",
            "        [ 6834.8091,   799.6703],\n",
            "        [   21.0731,  8802.1650]], grad_fn=<MulBackward0>)\n",
            "tensor(48387.0273, grad_fn=<SumBackward0>)\n",
            "10\n",
            "tensor([[ 3116.4805, 11650.3262],\n",
            "        [ 3933.6970, 20437.3281],\n",
            "        [ 2004.1320, 43601.4375],\n",
            "        [10153.5186,  5646.4482],\n",
            "        [  741.1503, 23363.4785]], grad_fn=<MulBackward0>)\n",
            "tensor(124647.9922, grad_fn=<SumBackward0>)\n",
            "10\n",
            "tensor([[ 4350.8755, 18063.4902],\n",
            "        [ 5769.1577, 31547.2520],\n",
            "        [ 3723.0908, 62409.5547],\n",
            "        [12230.6768, 10354.9629],\n",
            "        [ 1598.2646, 34540.5977]], grad_fn=<MulBackward0>)\n",
            "tensor(184587.9219, grad_fn=<SumBackward0>)\n",
            "10\n",
            "tensor([[ 4391.1050, 18382.5293],\n",
            "        [ 5822.9990, 32051.6641],\n",
            "        [ 3879.5872, 63174.1094],\n",
            "        [12175.2920, 10695.1865],\n",
            "        [ 1644.6382, 34917.7266]], grad_fn=<MulBackward0>)\n",
            "tensor(187134.8438, grad_fn=<SumBackward0>)\n",
            "10\n",
            "tensor([[ 3210.8438, 12384.9688],\n",
            "        [ 4055.4797, 21593.5977],\n",
            "        [ 2348.0261, 45406.3594],\n",
            "        [ 9988.5801,  6387.4258],\n",
            "        [  832.6777, 24225.1641]], grad_fn=<MulBackward0>)\n",
            "tensor(130433.1250, grad_fn=<SumBackward0>)\n",
            "10\n",
            "tensor([[ 1509.1458,  4341.9292],\n",
            "        [ 1623.8634,  7589.8472],\n",
            "        [  490.4316, 20120.8223],\n",
            "        [ 6574.6050,  1269.0431],\n",
            "        [   49.1318,  9547.4375]], grad_fn=<MulBackward0>)\n",
            "tensor(53116.2578, grad_fn=<SumBackward0>)\n",
            "10\n",
            "tensor([[ 254.9396,   57.1718],\n",
            "        [ 105.9287,  105.5231],\n",
            "        [ 138.3029, 2530.6675],\n",
            "        [3238.6965,  456.0169],\n",
            "        [ 441.9047,  545.1608]], grad_fn=<MulBackward0>)\n",
            "tensor(7874.3130, grad_fn=<SumBackward0>)\n",
            "10\n",
            "tensor([[  62.8858, 2832.5764],\n",
            "        [ 441.5768, 4873.9619],\n",
            "        [2207.5178, 2047.3553],\n",
            "        [ 989.6934, 6493.0151],\n",
            "        [2514.3301, 2940.6824]], grad_fn=<MulBackward0>)\n",
            "tensor(25403.5957, grad_fn=<SumBackward0>)\n",
            "10\n",
            "tensor([[  819.2238, 11135.2441],\n",
            "        [ 2311.2383, 19257.7695],\n",
            "        [ 5926.3848, 16339.9355],\n",
            "        [   80.0405, 17206.5684],\n",
            "        [ 5631.8433, 14699.6641]], grad_fn=<MulBackward0>)\n",
            "tensor(93407.9141, grad_fn=<SumBackward0>)\n",
            "10\n",
            "tensor([[ 1803.8293, 19578.6602],\n",
            "        [ 4371.0435, 33938.4688],\n",
            "        [ 9239.1299, 33414.6875],\n",
            "        [   48.9284, 26820.1250],\n",
            "        [ 8309.2285, 27496.5488]], grad_fn=<MulBackward0>)\n",
            "tensor(165020.6406, grad_fn=<SumBackward0>)\n",
            "10\n",
            "tensor([[ 2216.0281, 22560.5977],\n",
            "        [ 5180.0195, 39201.4375],\n",
            "        [10136.0742, 40194.3281],\n",
            "        [  194.8240, 29646.1328],\n",
            "        [ 9111.2207, 32443.6309]], grad_fn=<MulBackward0>)\n",
            "tensor(190884.3125, grad_fn=<SumBackward0>)\n",
            "10\n",
            "tensor([[ 1738.2351, 18077.2773],\n",
            "        [ 4183.5923, 31532.8848],\n",
            "        [ 8014.4351, 31656.0098],\n",
            "        [  125.2405, 23877.4746],\n",
            "        [ 7572.0693, 26157.8887]], grad_fn=<MulBackward0>)\n",
            "tensor(152935.1094, grad_fn=<SumBackward0>)\n",
            "10\n",
            "tensor([[7.4968e+02, 9.1056e+03],\n",
            "        [2.0820e+03, 1.6023e+04],\n",
            "        [4.1363e+03, 1.4247e+04],\n",
            "        [7.3096e-02, 1.2893e+04],\n",
            "        [4.5147e+03, 1.3022e+04]], grad_fn=<MulBackward0>)\n",
            "tensor(76773.5312, grad_fn=<SumBackward0>)\n",
            "10\n",
            "tensor([[  46.2667, 1602.4087],\n",
            "        [ 335.5444, 2925.9951],\n",
            "        [ 852.8101, 1262.5153],\n",
            "        [ 316.5976, 3152.6968],\n",
            "        [1547.7632, 2112.6028]], grad_fn=<MulBackward0>)\n",
            "tensor(14155.2012, grad_fn=<SumBackward0>)\n",
            "10\n",
            "tensor([[ 264.1138,  479.0750],\n",
            "        [ 150.5154,  726.8391],\n",
            "        [  98.0661, 3399.4961],\n",
            "        [1415.3779,   61.7902],\n",
            "        [  68.1574,  920.2408]], grad_fn=<MulBackward0>)\n",
            "tensor(7583.6719, grad_fn=<SumBackward0>)\n",
            "10\n",
            "tensor([[ 1409.2443,  6292.6123],\n",
            "        [ 1644.7823, 10428.2305],\n",
            "        [ 2152.7881, 21046.8574],\n",
            "        [ 3086.1816,  4557.6436],\n",
            "        [  428.9309, 10186.6982]], grad_fn=<MulBackward0>)\n",
            "tensor(61233.9648, grad_fn=<SumBackward0>)\n",
            "10\n",
            "tensor([[ 2823.1970, 14904.9873],\n",
            "        [ 3767.3926, 24959.0859],\n",
            "        [ 5499.7222, 43663.1484],\n",
            "        [ 4582.9692, 12685.6621],\n",
            "        [ 1814.2328, 23403.4531]], grad_fn=<MulBackward0>)\n",
            "tensor(138103.8438, grad_fn=<SumBackward0>)\n",
            "10\n",
            "tensor([[ 3614.3579, 20335.0488],\n",
            "        [ 5027.8022, 34083.1133],\n",
            "        [ 7857.4473, 56747.4688],\n",
            "        [ 5065.8530, 18406.8789],\n",
            "        [ 2884.6353, 31319.4297]], grad_fn=<MulBackward0>)\n",
            "tensor(185342.0469, grad_fn=<SumBackward0>)\n",
            "10\n",
            "tensor([[ 3262.8926, 18848.7559],\n",
            "        [ 4533.3066, 31439.1816],\n",
            "        [ 7688.8301, 51670.8477],\n",
            "        [ 4178.0210, 17703.1270],\n",
            "        [ 2736.1091, 28359.8320]], grad_fn=<MulBackward0>)\n",
            "tensor(170420.8906, grad_fn=<SumBackward0>)\n",
            "10\n",
            "tensor([[ 1984.7231, 11492.2480],\n",
            "        [ 2619.7695, 18891.4648],\n",
            "        [ 5170.2896, 31642.9238],\n",
            "        [ 2353.8696, 11193.4951],\n",
            "        [ 1512.5721, 16539.0801]], grad_fn=<MulBackward0>)\n",
            "tensor(103400.4297, grad_fn=<SumBackward0>)\n",
            "10\n",
            "tensor([[ 601.6037, 3343.1599],\n",
            "        [ 637.8180, 5217.4829],\n",
            "        [1986.5793, 9696.3711],\n",
            "        [ 622.4146, 3523.0391],\n",
            "        [ 259.8144, 4159.8130]], grad_fn=<MulBackward0>)\n",
            "tensor(30048.0938, grad_fn=<SumBackward0>)\n",
            "10\n",
            "tensor([[  0.2599,   3.6604],\n",
            "        [ 35.0149,  43.2957],\n",
            "        [121.6198,   8.8296],\n",
            "        [  6.7799,   6.7910],\n",
            "        [136.2745, 159.8741]], grad_fn=<MulBackward0>)\n",
            "tensor(522.3998, grad_fn=<SumBackward0>)\n",
            "10\n"
          ]
        }
      ]
    },
    {
      "cell_type": "markdown",
      "metadata": {
        "id": "2Ng8OBzvJRnQ"
      },
      "source": [
        "> **NOTE :**  Here the *number of epochs* and *1e-5* are known as hyperparameter and we need to fine tune them in order to obtain desired results"
      ]
    },
    {
      "cell_type": "code",
      "metadata": {
        "colab": {
          "base_uri": "https://localhost:8080/"
        },
        "id": "wGyXPCWCHptJ",
        "outputId": "814032e8-9e4a-474a-903c-46c9ca64261a"
      },
      "source": [
        "# Finally the results are:\n",
        "pred = inputs @ w.t() + b\n",
        "print(f\"{pred} and this is the target {targets} and loss is {mse(pred, targets)}\")"
      ],
      "execution_count": 60,
      "outputs": [
        {
          "output_type": "stream",
          "name": "stdout",
          "text": [
            "tensor([[ 544.3773, 3745.7402],\n",
            "        [1358.2867, 7191.4858],\n",
            "        [ 495.9643, 8432.7803],\n",
            "        [ 897.8066, 2885.5598],\n",
            "        [1540.3140, 7957.9409]], grad_fn=<MulBackward0>)\n",
            "tensor(35050.2578, grad_fn=<SumBackward0>)\n",
            "10\n",
            "tensor([[ 32.6681, 131.2025],\n",
            "        [ 44.1451, 185.8026],\n",
            "        [ 96.7297, 224.8302],\n",
            "        [ -7.9634,  90.7174],\n",
            "        [ 63.7532, 208.2073]], grad_fn=<AddBackward0>) and this is the target tensor([[ 56.,  70.],\n",
            "        [ 81., 101.],\n",
            "        [119., 133.],\n",
            "        [ 22.,  37.],\n",
            "        [103., 119.]]) and loss is 3505.02587890625\n"
          ]
        }
      ]
    },
    {
      "cell_type": "markdown",
      "metadata": {
        "id": "QAa-_3-FMkuu"
      },
      "source": [
        "## Linear regression using PyTorch built-ins\n",
        "\n",
        "We've implemented linear regression & gradient descent model using some basic tensor operations. However, since this is a common pattern in deep learning, PyTorch provides several built-in functions and classes to make it easy to create and train models with just a few lines of code.\n",
        "\n",
        "Let's begin by importing the `torch.nn` package from PyTorch, which contains utility classes for building neural networks."
      ]
    },
    {
      "cell_type": "code",
      "metadata": {
        "id": "RDWkIkTjKqPP"
      },
      "source": [
        "import torch.nn as nn\n",
        "# Input (temp, rainfall, humidity)\n",
        "inputs = np.array([[73, 67, 43], \n",
        "                   [91, 88, 64], \n",
        "                   [87, 134, 58], \n",
        "                   [102, 43, 37], \n",
        "                   [69, 96, 70], \n",
        "                   [74, 66, 43], \n",
        "                   [91, 87, 65], \n",
        "                   [88, 134, 59], \n",
        "                   [101, 44, 37], \n",
        "                   [68, 96, 71], \n",
        "                   [73, 66, 44], \n",
        "                   [92, 87, 64], \n",
        "                   [87, 135, 57], \n",
        "                   [103, 43, 36], \n",
        "                   [68, 97, 70]], \n",
        "                  dtype='float32')\n",
        "\n",
        "# Targets (apples, oranges)\n",
        "targets = np.array([[56, 70], \n",
        "                    [81, 101], \n",
        "                    [119, 133], \n",
        "                    [22, 37], \n",
        "                    [103, 119],\n",
        "                    [57, 69], \n",
        "                    [80, 102], \n",
        "                    [118, 132], \n",
        "                    [21, 38], \n",
        "                    [104, 118], \n",
        "                    [57, 69], \n",
        "                    [82, 100], \n",
        "                    [118, 134], \n",
        "                    [20, 38], \n",
        "                    [102, 120]], \n",
        "                   dtype='float32')\n",
        "\n",
        "inputs = torch.from_numpy(inputs)\n",
        "targets = torch.from_numpy(targets)"
      ],
      "execution_count": 61,
      "outputs": []
    },
    {
      "cell_type": "markdown",
      "metadata": {
        "id": "8kbyESwxNWYM"
      },
      "source": [
        "## Dataset and DataLoader\n",
        "\n",
        "We'll create a `TensorDataset`, which allows access to rows from `inputs` and `targets` as tuples, and provides standard APIs for working with many different types of datasets in PyTorch."
      ]
    },
    {
      "cell_type": "code",
      "metadata": {
        "colab": {
          "base_uri": "https://localhost:8080/"
        },
        "id": "Kn9WGo1FNW56",
        "outputId": "f18ddf0f-5c11-48ad-8fb1-031d232dfec8"
      },
      "source": [
        "from torch.utils.data import TensorDataset\n",
        "\n",
        "# Define dataset\n",
        "train_ds = TensorDataset(inputs, targets)\n",
        "train_ds[0:3]\n",
        "train_ds[[1,3,5,7]] # To access the 1st, 3rd, 5th and 7th data entry"
      ],
      "execution_count": 62,
      "outputs": [
        {
          "output_type": "execute_result",
          "data": {
            "text/plain": [
              "(tensor([[ 91.,  88.,  64.],\n",
              "         [102.,  43.,  37.],\n",
              "         [ 74.,  66.,  43.],\n",
              "         [ 88., 134.,  59.]]), tensor([[ 81., 101.],\n",
              "         [ 22.,  37.],\n",
              "         [ 57.,  69.],\n",
              "         [118., 132.]]))"
            ]
          },
          "metadata": {},
          "execution_count": 62
        }
      ]
    },
    {
      "cell_type": "markdown",
      "metadata": {
        "id": "MkBpNRT6OCkf"
      },
      "source": [
        "We'll also create a `DataLoader`, which can split the data into batches of a predefined size while training. It also provides other utilities like shuffling and random sampling of the data.\n",
        "\n",
        "In each iteration, the data loader returns one batch of data with the given batch size. If `shuffle` is set to `True`, it shuffles the training data before creating batches. Shuffling helps randomize the input to the optimization algorithm, leading to a faster reduction in the loss."
      ]
    },
    {
      "cell_type": "code",
      "metadata": {
        "colab": {
          "base_uri": "https://localhost:8080/"
        },
        "id": "-miI-pMdNnwx",
        "outputId": "4e1dd0a9-b192-4ea3-8fd7-d40321960f58"
      },
      "source": [
        "from torch.utils.data import DataLoader\n",
        "\n",
        "# Define data loader\n",
        "batch_size = 5\n",
        "train_dl = DataLoader(train_ds, batch_size, shuffle=True)\n",
        "\n",
        "# Watching the first batch\n",
        "for xb, yb in train_dl:\n",
        "    print(xb)\n",
        "    print(yb)\n",
        "    break"
      ],
      "execution_count": 63,
      "outputs": [
        {
          "output_type": "stream",
          "name": "stdout",
          "text": [
            "tensor([[ 68.,  96.,  71.],\n",
            "        [103.,  43.,  36.],\n",
            "        [ 69.,  96.,  70.],\n",
            "        [ 74.,  66.,  43.],\n",
            "        [ 92.,  87.,  64.]])\n",
            "tensor([[104., 118.],\n",
            "        [ 20.,  38.],\n",
            "        [103., 119.],\n",
            "        [ 57.,  69.],\n",
            "        [ 82., 100.]])\n"
          ]
        }
      ]
    },
    {
      "cell_type": "markdown",
      "metadata": {
        "id": "_BOLPbkfPhjh"
      },
      "source": [
        "## nn.Linear\n",
        "\n",
        "Instead of initializing the weights & biases manually, we can define the model using the `nn.Linear` class from PyTorch, which does it automatically.\n",
        "\n",
        "PyTorch models also have a helpful `.parameters` method, which returns a list containing all the weights and bias matrices present in the model. For our linear regression model, we have one weight matrix and one bias matrix."
      ]
    },
    {
      "cell_type": "code",
      "metadata": {
        "colab": {
          "base_uri": "https://localhost:8080/"
        },
        "id": "urelTo4uOPx8",
        "outputId": "0283ac8b-2b3f-4a09-fc70-391a84385c44"
      },
      "source": [
        "# Define model\n",
        "model = nn.Linear(3, 2)\n",
        "print(model.weight)\n",
        "print(model.bias)\n",
        "\n",
        "# Parameters use\n",
        "list(model.parameters())"
      ],
      "execution_count": 64,
      "outputs": [
        {
          "output_type": "stream",
          "name": "stdout",
          "text": [
            "Parameter containing:\n",
            "tensor([[-0.3600,  0.0821, -0.4679],\n",
            "        [ 0.2426,  0.1903,  0.5423]], requires_grad=True)\n",
            "Parameter containing:\n",
            "tensor([-0.4796,  0.5256], requires_grad=True)\n"
          ]
        },
        {
          "output_type": "execute_result",
          "data": {
            "text/plain": [
              "[Parameter containing:\n",
              " tensor([[-0.3600,  0.0821, -0.4679],\n",
              "         [ 0.2426,  0.1903,  0.5423]], requires_grad=True),\n",
              " Parameter containing:\n",
              " tensor([-0.4796,  0.5256], requires_grad=True)]"
            ]
          },
          "metadata": {},
          "execution_count": 64
        }
      ]
    },
    {
      "cell_type": "code",
      "metadata": {
        "colab": {
          "base_uri": "https://localhost:8080/"
        },
        "id": "mXeNp5M3Psvt",
        "outputId": "6a28771d-62a8-482a-b129-878560a886a1"
      },
      "source": [
        "pred = model(inputs)\n",
        "print(pred)"
      ],
      "execution_count": 65,
      "outputs": [
        {
          "output_type": "stream",
          "name": "stdout",
          "text": [
            "tensor([[-41.3790,  54.3067],\n",
            "        [-55.9611,  74.0585],\n",
            "        [-47.9383,  78.5887],\n",
            "        [-50.9808,  53.5216],\n",
            "        [-50.1924,  73.4970],\n",
            "        [-41.8211,  54.3590],\n",
            "        [-56.5111,  74.4105],\n",
            "        [-48.7662,  79.3736],\n",
            "        [-50.5387,  53.4693],\n",
            "        [-50.3003,  73.7966],\n",
            "        [-41.9290,  54.6586],\n",
            "        [-56.4031,  74.1108],\n",
            "        [-47.3883,  78.2367],\n",
            "        [-50.8729,  53.2219],\n",
            "        [-49.7503,  73.4446]], grad_fn=<AddmmBackward>)\n"
          ]
        }
      ]
    },
    {
      "cell_type": "markdown",
      "metadata": {
        "id": "YV5ftYdORcYa"
      },
      "source": [
        "## Loss Function\n",
        "\n",
        "Instead of defining a loss function manually, we can use the built-in loss function `mse_loss`.\n",
        "\n",
        "The `nn.functional` package contains many useful loss functions and several other utilities."
      ]
    },
    {
      "cell_type": "code",
      "metadata": {
        "colab": {
          "base_uri": "https://localhost:8080/"
        },
        "id": "1phJxcpxQap1",
        "outputId": "0b0400ff-bb5e-4ff5-9a65-6aedc7de38e3"
      },
      "source": [
        "# Import nn.functional\n",
        "import torch.nn.functional as F\n",
        "\n",
        "# Define loss function\n",
        "loss_fn = F.mse_loss\n",
        "\n",
        "# Let's compute the loss for the current predictions of our model.\n",
        "loss = loss_fn(model(inputs), targets)\n",
        "print(loss)"
      ],
      "execution_count": 66,
      "outputs": [
        {
          "output_type": "stream",
          "name": "stdout",
          "text": [
            "tensor(9099.5879, grad_fn=<MseLossBackward>)\n"
          ]
        }
      ]
    },
    {
      "cell_type": "markdown",
      "metadata": {
        "id": "0M2ALDHXSo8T"
      },
      "source": [
        "## Optimizer\n",
        "\n",
        "Instead of manually manipulating the model's weights & biases using gradients, we can use the optimizer `optim.SGD`. SGD is short for \"stochastic gradient descent\". The term _stochastic_ indicates that samples are selected in random batches instead of as a single group.\n",
        "\n",
        "> **Note :** that `model.parameters()` is passed as an argument to `optim.SGD` so that the optimizer knows which matrices should be modified during the update step. Also, we can specify a learning rate that controls the amount by which the parameters are modified."
      ]
    },
    {
      "cell_type": "code",
      "metadata": {
        "id": "kIXpcUqSSpf0"
      },
      "source": [
        "# Define optimizer\n",
        "opt = torch.optim.SGD(model.parameters(), lr=1e-5)"
      ],
      "execution_count": 69,
      "outputs": []
    },
    {
      "cell_type": "markdown",
      "metadata": {
        "id": "01uest_GTNVM"
      },
      "source": [
        "## Train the model\n",
        "\n",
        "We are now ready to train the model. We'll follow the same process to implement gradient descent:\n",
        "\n",
        "1. Generate predictions\n",
        "\n",
        "2. Calculate the loss\n",
        "\n",
        "3. Compute gradients w.r.t the weights and biases\n",
        "\n",
        "4. Adjust the weights by subtracting a small quantity proportional to the gradient\n",
        "\n",
        "5. Reset the gradients to zero\n",
        "\n",
        "The only change is that we'll work batches of data instead of processing the entire training data in every iteration. Let's define a utility function `fit` that trains the model for a given number of epochs."
      ]
    },
    {
      "cell_type": "code",
      "metadata": {
        "id": "xWZt8lEjTOBb"
      },
      "source": [
        "# Utility function to train the model\n",
        "def fit(num_epochs, model, loss_fn, opt, train_dl):\n",
        "    \n",
        "    # Repeat for given number of epochs\n",
        "    for epoch in range(num_epochs):\n",
        "        \n",
        "        # Train with batches of data\n",
        "        for xb,yb in train_dl:\n",
        "            \n",
        "            # 1. Generate predictions\n",
        "            pred = model(xb)\n",
        "            \n",
        "            # 2. Calculate loss\n",
        "            loss = loss_fn(pred, yb)\n",
        "            \n",
        "            # 3. Compute gradients\n",
        "            loss.backward()\n",
        "            \n",
        "            # 4. Update parameters using gradients\n",
        "            opt.step()\n",
        "            \n",
        "            # 5. Reset the gradients to zero\n",
        "            opt.zero_grad()\n",
        "        \n",
        "        # Print the progress\n",
        "        if (epoch+1) % 10 == 0:\n",
        "            print('Epoch [{}/{}], Loss: {:.4f}'.format(epoch+1, num_epochs, loss.item()))"
      ],
      "execution_count": 70,
      "outputs": []
    },
    {
      "cell_type": "markdown",
      "metadata": {
        "id": "v36QO_QFTW05"
      },
      "source": [
        "Some things to note above:\n",
        "\n",
        "* We use the data loader defined earlier to get batches of data for every iteration.\n",
        "\n",
        "* Instead of updating parameters (weights and biases) manually, we use `opt.step` to perform the update and `opt.zero_grad` to reset the gradients to zero.\n",
        "\n",
        "* We've also added a log statement that prints the loss from the last batch of data for every 10th epoch to track training progress. `loss.item` returns the actual value stored in the loss tensor.\n",
        "\n",
        "Let's train the model for 100 epochs."
      ]
    },
    {
      "cell_type": "code",
      "metadata": {
        "colab": {
          "base_uri": "https://localhost:8080/"
        },
        "id": "dfYWhmxxTUDN",
        "outputId": "fb7a8604-ec7f-4301-9c5b-96ba436c7574"
      },
      "source": [
        "fit(100, model, loss_fn, opt, train_dl)\n",
        "\n",
        "# Generate predictions\n",
        "preds = model(inputs)\n",
        "print(f\"These are the predictions \\n{preds}\\n These were the targets \\n{targets}\")"
      ],
      "execution_count": 72,
      "outputs": [
        {
          "output_type": "stream",
          "name": "stdout",
          "text": [
            "Epoch [10/100], Loss: 11.9604\n",
            "Epoch [20/100], Loss: 30.3884\n",
            "Epoch [30/100], Loss: 29.8352\n",
            "Epoch [40/100], Loss: 20.1526\n",
            "Epoch [50/100], Loss: 28.6953\n",
            "Epoch [60/100], Loss: 13.5210\n",
            "Epoch [70/100], Loss: 17.6451\n",
            "Epoch [80/100], Loss: 9.8236\n",
            "Epoch [90/100], Loss: 18.5780\n",
            "Epoch [100/100], Loss: 9.0264\n",
            "These are the predictions \n",
            "tensor([[ 57.3224,  70.7159],\n",
            "        [ 79.1944,  99.8261],\n",
            "        [124.1410, 133.9783],\n",
            "        [ 23.0548,  38.9556],\n",
            "        [ 95.5178, 116.6581],\n",
            "        [ 56.0332,  69.6405],\n",
            "        [ 78.5093,  99.7847],\n",
            "        [124.1488, 134.5061],\n",
            "        [ 24.3441,  40.0310],\n",
            "        [ 96.1219, 117.6921],\n",
            "        [ 56.6373,  70.6745],\n",
            "        [ 77.9052,  98.7507],\n",
            "        [124.8261, 134.0198],\n",
            "        [ 22.4507,  37.9216],\n",
            "        [ 96.8070, 117.7335]], grad_fn=<AddmmBackward>)\n",
            " These were the targets \n",
            "tensor([[ 56.,  70.],\n",
            "        [ 81., 101.],\n",
            "        [119., 133.],\n",
            "        [ 22.,  37.],\n",
            "        [103., 119.],\n",
            "        [ 57.,  69.],\n",
            "        [ 80., 102.],\n",
            "        [118., 132.],\n",
            "        [ 21.,  38.],\n",
            "        [104., 118.],\n",
            "        [ 57.,  69.],\n",
            "        [ 82., 100.],\n",
            "        [118., 134.],\n",
            "        [ 20.,  38.],\n",
            "        [102., 120.]])\n"
          ]
        }
      ]
    },
    {
      "cell_type": "markdown",
      "metadata": {
        "id": "5AUSGyMXT7Ko"
      },
      "source": [
        "## Questions for Review\n",
        "\n",
        "Try answering the following questions to test your understanding of the topics covered in this notebook:\n",
        "\n",
        "1. What is a linear regression model? Give an example of a problem formulated as a linear regression model.\n",
        "2. What are input and target variables in a dataset? Give an example.\n",
        "3. What are weights and biases in a linear regression model?\n",
        "4. How do you represent tabular data using PyTorch tensors?\n",
        "5. Why do we create separate matrices for inputs and targets while training a linear regression model?\n",
        "6. How do you determine the shape of the weights matrix & bias vector given some training data?\n",
        "7. How do you create randomly initialized weights & biases with a given shape?\n",
        "8. How is a linear regression model implemented using matrix operations? Explain with an example.\n",
        "9. How do you generate predictions using a linear regression model?\n",
        "10. Why are the predictions of a randomly initialized model different from the actual targets?\n",
        "11. What is a loss function? What does the term “loss” signify?\n",
        "12. What is mean squared error?\n",
        "13. Write a function to calculate mean squared using model predictions and actual targets.\n",
        "14. What happens when you invoke the `.backward` function on the result of the mean squared error loss function?\n",
        "15. Why is the derivative of the loss w.r.t. the weights matrix itself a matrix? What do its elements represent?\n",
        "16. How is the derivate of the loss w.r.t. a weight element useful for reducing the loss? Explain with an example.\n",
        "17. Suppose the derivative  of the loss w.r.t. a weight element is positive. Should you increase or decrease the element’s value slightly to get a lower loss?\n",
        "18. Suppose the derivative  of the loss w.r.t. a weight element is negative. Should you increase or decrease the element’s value slightly to get a lower loss?\n",
        "19. How do you update the weights and biases of a model using their respective gradients to reduce the loss slightly?\n",
        "20. What is the gradient descent optimization algorithm? Why is it called “gradient descent”?\n",
        "21. Why do you subtract a “small quantity” proportional to the gradient from the weights & biases, not the actual gradient itself?\n",
        "22. What is learning rate? Why is it important?\n",
        "23. What is `torch.no_grad`?\n",
        "24. Why do you reset gradients to zero after updating weights and biases?\n",
        "25. What are the steps involved in training a linear regression model using gradient descent?\n",
        "26. What is an epoch?\n",
        "27. What is the benefit of training a model for multiple epochs?\n",
        "28. How do you make predictions using a trained model?\n",
        "29. What should you do if your model’s loss doesn’t decrease while training? Hint: learning rate.\n",
        "30. What is `torch.nn`?\n",
        "31. What is the purpose of the `TensorDataset` class in PyTorch? Give an example.\n",
        "32. What is a data loader in PyTorch? Give an example.\n",
        "33. How do you use a data loader to retrieve batches of data?\n",
        "34. What are the benefits of shuffling the training data before creating batches?\n",
        "35. What is the benefit of training in small batches instead of training with the entire dataset?\n",
        "36. What is the purpose of the `nn.Linear` class in PyTorch? Give an example.\n",
        "37. How do you see the weights and biases of a `nn.Linear` model?\n",
        "38. What is the purpose of the `torch.nn.functional` module?\n",
        "39. How do you compute mean squared error loss using a PyTorch built-in function?\n",
        "40. What is an optimizer in PyTorch?\n",
        "41. What is `torch.optim.SGD`? What does SGD stand for?\n",
        "42. What are the inputs to a PyTorch optimizer? \n",
        "43. Give an example of creating an optimizer for training a linear regression model.\n",
        "44. Write a function to train a `nn.Linear` model in batches using gradient descent.\n",
        "45. How do you use a linear regression model to make predictions on previously unseen data?"
      ]
    },
    {
      "cell_type": "markdown",
      "metadata": {
        "id": "sG84bTjBUDGY"
      },
      "source": [
        "## Further Reading\n",
        "\n",
        "* An visual & animated explanation of gradient descent: https://www.youtube.com/watch?v=IHZwWFHWa-w\n",
        "\n",
        "* For a more detailed explanation of derivates and gradient descent, see [these notes from a Udacity course](https://storage.googleapis.com/supplemental_media/udacityu/315142919/Gradient%20Descent.pdf). \n",
        "\n",
        "* For an animated visualization of how linear regression works, [see this post](https://hackernoon.com/visualizing-linear-regression-with-pytorch-9261f49edb09).\n",
        "\n",
        "* For a more mathematical treatment of matrix calculus, linear regression and gradient descent, you should check out [Andrew Ng's excellent course notes](https://github.com/Cleo-Stanford-CS/CS229_Notes/blob/master/lectures/cs229-notes1.pdf) from CS229 at Stanford University.\n",
        "\n",
        "* To practice and test your skills, you can participate in the [Boston Housing Price Prediction](https://www.kaggle.com/c/boston-housing) competition on Kaggle, a website that hosts data science competitions."
      ]
    },
    {
      "cell_type": "code",
      "metadata": {
        "id": "xLZ4aX8_TpCX"
      },
      "source": [
        ""
      ],
      "execution_count": null,
      "outputs": []
    }
  ]
}